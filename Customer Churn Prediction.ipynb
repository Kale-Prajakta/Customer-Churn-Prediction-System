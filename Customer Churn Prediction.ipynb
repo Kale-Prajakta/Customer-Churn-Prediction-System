{
 "cells": [
  {
   "cell_type": "markdown",
   "id": "2d08310d-61dd-4843-a90a-142af57812ec",
   "metadata": {},
   "source": [
    "## Customer Churn Prediction"
   ]
  },
  {
   "cell_type": "code",
   "execution_count": 1,
   "id": "ccb503b3-355f-4764-9741-26e3bee52d95",
   "metadata": {},
   "outputs": [],
   "source": [
    "#Importing Libraries\n",
    "import pandas as pd\n",
    "import numpy as np\n",
    "import matplotlib.pyplot as plt\n",
    "import seaborn as sns\n",
    "from sklearn.model_selection import train_test_split\n",
    "from sklearn.preprocessing import LabelEncoder\n",
    "from sklearn.metrics import accuracy_score, roc_auc_score, classification_report, confusion_matrix\n",
    "from sklearn.linear_model import LogisticRegression\n",
    "from sklearn.ensemble import RandomForestClassifier\n",
    "from xgboost import XGBClassifier\n",
    "import pickle"
   ]
  },
  {
   "cell_type": "code",
   "execution_count": 2,
   "id": "2c3c7ea9-186c-4119-8d95-8f208b77dad7",
   "metadata": {},
   "outputs": [],
   "source": [
    "#Load Dataset\n",
    "df = pd.read_csv('Customer_churn.csv')"
   ]
  },
  {
   "cell_type": "code",
   "execution_count": 3,
   "id": "66f3c0f6-5e4f-4c7b-ba6e-a0663df39ff1",
   "metadata": {},
   "outputs": [],
   "source": [
    "#EDA\n",
    "df.drop(['customerID'], axis=1, inplace=True)\n",
    "df['TotalCharges'] = pd.to_numeric(df['TotalCharges'], errors='coerce')\n",
    "df.dropna(inplace=True)"
   ]
  },
  {
   "cell_type": "code",
   "execution_count": 4,
   "id": "b6344f31-de8d-439d-bae3-4083e3f19e47",
   "metadata": {},
   "outputs": [],
   "source": [
    "#Convert target column\n",
    "le = LabelEncoder()\n",
    "df['Churn'] = le.fit_transform(df['Churn'])"
   ]
  },
  {
   "cell_type": "code",
   "execution_count": 5,
   "id": "51d9c244-8666-453f-9cd8-32d8502c02ad",
   "metadata": {},
   "outputs": [],
   "source": [
    "#Encode categorical variables\n",
    "df_encoded = pd.get_dummies(df.drop('Churn', axis=1), drop_first=True)\n",
    "X = df_encoded\n",
    "y = df['Churn']"
   ]
  },
  {
   "cell_type": "code",
   "execution_count": 6,
   "id": "3ed9dc3e-7580-40a5-9c94-790c19105d4b",
   "metadata": {},
   "outputs": [],
   "source": [
    "# Train-test split\n",
    "X_train, X_test, y_train, y_test = train_test_split(X, y, test_size=0.2, random_state=42)"
   ]
  },
  {
   "cell_type": "code",
   "execution_count": 7,
   "id": "e542d0c7-6be8-4385-a4a2-e412b655d4b8",
   "metadata": {},
   "outputs": [],
   "source": [
    "#Model Training & Evaluation\n",
    "\n",
    "def evaluate_model(model, name):\n",
    "    model.fit(X_train, y_train)\n",
    "    y_pred = model.predict(X_test)\n",
    "    y_proba = model.predict_proba(X_test)[:,1]\n",
    "    acc = accuracy_score(y_test, y_pred)\n",
    "    roc = roc_auc_score(y_test, y_proba)\n",
    "    print(f\"\\n{name} Results:\")\n",
    "    print(f\"Accuracy: {acc:.2f}\")\n",
    "    print(f\"ROC-AUC: {roc:.2f}\")\n",
    "    print(confusion_matrix(y_test, y_pred))\n",
    "    print(classification_report(y_test, y_pred))\n",
    "    return model, acc, roc"
   ]
  },
  {
   "cell_type": "code",
   "execution_count": 9,
   "id": "5780184b-a558-4904-8710-3c86224ed772",
   "metadata": {},
   "outputs": [
    {
     "name": "stdout",
     "output_type": "stream",
     "text": [
      "\n",
      "Logistic Regression Results:\n",
      "Accuracy: 0.79\n",
      "ROC-AUC: 0.83\n",
      "[[917 116]\n",
      " [186 188]]\n",
      "              precision    recall  f1-score   support\n",
      "\n",
      "           0       0.83      0.89      0.86      1033\n",
      "           1       0.62      0.50      0.55       374\n",
      "\n",
      "    accuracy                           0.79      1407\n",
      "   macro avg       0.72      0.70      0.71      1407\n",
      "weighted avg       0.77      0.79      0.78      1407\n",
      "\n"
     ]
    }
   ],
   "source": [
    "#Logistic Regression\n",
    "log_model, log_acc, log_roc = evaluate_model(LogisticRegression(max_iter=1000), \"Logistic Regression\")"
   ]
  },
  {
   "cell_type": "code",
   "execution_count": 10,
   "id": "b796089a-3ebd-4dfd-b102-85fd246d7e59",
   "metadata": {},
   "outputs": [
    {
     "name": "stdout",
     "output_type": "stream",
     "text": [
      "\n",
      "Random Forest Results:\n",
      "Accuracy: 0.78\n",
      "ROC-AUC: 0.81\n",
      "[[921 112]\n",
      " [199 175]]\n",
      "              precision    recall  f1-score   support\n",
      "\n",
      "           0       0.82      0.89      0.86      1033\n",
      "           1       0.61      0.47      0.53       374\n",
      "\n",
      "    accuracy                           0.78      1407\n",
      "   macro avg       0.72      0.68      0.69      1407\n",
      "weighted avg       0.77      0.78      0.77      1407\n",
      "\n"
     ]
    }
   ],
   "source": [
    "#Random Forest\n",
    "rf_model, rf_acc, rf_roc = evaluate_model(RandomForestClassifier(), \"Random Forest\")"
   ]
  },
  {
   "cell_type": "code",
   "execution_count": 11,
   "id": "840565fe-dd93-40eb-a110-30b0491b8600",
   "metadata": {},
   "outputs": [
    {
     "name": "stderr",
     "output_type": "stream",
     "text": [
      "C:\\Users\\praja\\AppData\\Roaming\\Python\\Python311\\site-packages\\xgboost\\training.py:183: UserWarning: [19:21:59] WARNING: C:\\actions-runner\\_work\\xgboost\\xgboost\\src\\learner.cc:738: \n",
      "Parameters: { \"use_label_encoder\" } are not used.\n",
      "\n",
      "  bst.update(dtrain, iteration=i, fobj=obj)\n"
     ]
    },
    {
     "name": "stdout",
     "output_type": "stream",
     "text": [
      "\n",
      "XGBoost Results:\n",
      "Accuracy: 0.77\n",
      "ROC-AUC: 0.81\n",
      "[[903 130]\n",
      " [188 186]]\n",
      "              precision    recall  f1-score   support\n",
      "\n",
      "           0       0.83      0.87      0.85      1033\n",
      "           1       0.59      0.50      0.54       374\n",
      "\n",
      "    accuracy                           0.77      1407\n",
      "   macro avg       0.71      0.69      0.69      1407\n",
      "weighted avg       0.76      0.77      0.77      1407\n",
      "\n"
     ]
    }
   ],
   "source": [
    "#XGBoost\n",
    "xgb_model, xgb_acc, xgb_roc = evaluate_model(XGBClassifier(use_label_encoder=False, eval_metric='logloss'), \"XGBoost\")"
   ]
  },
  {
   "cell_type": "code",
   "execution_count": null,
   "id": "e329105e-8b95-4c57-93ad-3c7a41eb6b69",
   "metadata": {},
   "outputs": [],
   "source": []
  }
 ],
 "metadata": {
  "kernelspec": {
   "display_name": "Python 3 (ipykernel)",
   "language": "python",
   "name": "python3"
  },
  "language_info": {
   "codemirror_mode": {
    "name": "ipython",
    "version": 3
   },
   "file_extension": ".py",
   "mimetype": "text/x-python",
   "name": "python",
   "nbconvert_exporter": "python",
   "pygments_lexer": "ipython3",
   "version": "3.11.7"
  }
 },
 "nbformat": 4,
 "nbformat_minor": 5
}
